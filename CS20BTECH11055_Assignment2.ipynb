{
 "cells": [
  {
   "cell_type": "code",
   "execution_count": 1,
   "metadata": {},
   "outputs": [],
   "source": [
    "import numpy as np\n",
    "import matplotlib.pyplot as plt\n",
    "import pickle\n",
    "from sklearn.decomposition import PCA"
   ]
  },
  {
   "attachments": {},
   "cell_type": "markdown",
   "metadata": {},
   "source": [
    "# Opening the Dataset"
   ]
  },
  {
   "cell_type": "code",
   "execution_count": 2,
   "metadata": {},
   "outputs": [],
   "source": [
    "# Opening the CIFAR-10 dataset file and loading the data into 32x32x3 numpy arrays\n",
    "\n",
    "def unpickle(file):\n",
    "    with open(file, 'rb') as fo:\n",
    "        dict = pickle.load(fo, encoding='bytes')\n",
    "    return dict\n",
    "\n",
    "with open('cifar-10-batches-py/test_batch', 'rb') as fo:\n",
    "    dict_test = pickle.load(fo, encoding='bytes')\n",
    "    data_test = dict_test[b'data']\n",
    "    labels_test = dict_test[b'labels']\n",
    "    data_test = data_test.reshape(10000, 3, 32, 32).transpose(0,2,3,1).astype(\"float\")/255\n",
    "    labels_test = np.array(labels_test)\n",
    "\n",
    "data = np.zeros((10, 32, 32, 3))\n",
    "labels = np.zeros((10, 1))\n",
    "indices = []\n",
    "for i in range(10000):\n",
    "    if len(indices)==10:\n",
    "        break\n",
    "    if labels_test[i] not in indices:\n",
    "        data[labels_test[i]] = data_test[i]\n",
    "        labels[labels_test[i]] = labels_test[i]\n",
    "        indices.append(labels_test[i])"
   ]
  },
  {
   "attachments": {},
   "cell_type": "markdown",
   "metadata": {},
   "source": [
    "# 1. Convolution"
   ]
  },
  {
   "cell_type": "code",
   "execution_count": 3,
   "metadata": {},
   "outputs": [],
   "source": [
    "def dot_product(a, b):\n",
    "    m, n, o = a.shape\n",
    "    p, q, r = b.shape\n",
    "    if m != p or n != q or o != r:\n",
    "        print(\"Error: The dimensions of the two matrices are not the same\")\n",
    "    sum=0\n",
    "    for i in range(m):\n",
    "        for j in range(n):\n",
    "            for k in range(o):\n",
    "                sum+=a[i][j][k]*b[i][j][k]\n",
    "    return sum"
   ]
  },
  {
   "cell_type": "code",
   "execution_count": 4,
   "metadata": {},
   "outputs": [],
   "source": [
    "def conv2d_my(input, padding=0, stride=1, kernel_size=3, filter = np.ones((3,3,3)), activation=None):\n",
    "    # print(\"Input shape: \", input)\n",
    "    m, n, o = input.shape\n",
    "    # print(filter.shape)\n",
    "    p, q, r = filter.shape\n",
    "    if o != r :\n",
    "        raise ValueError(f\"Dimensions of matrices do not match: {o} != {r}\")\n",
    "    # print(padding)\n",
    "    if padding:\n",
    "        input = np.pad(input, ((padding, padding), (padding, padding), (0,0)), 'constant')\n",
    "    # print(\"Input shape after padding: \", input)\n",
    "    output = np.zeros((int((m-kernel_size+2*padding)/stride + 1), int((n-kernel_size+2*padding)/stride + 1),1))\n",
    "    # print(\"Output Size: \", output.shape)\n",
    "    for i in range(0, m-kernel_size+1, stride):\n",
    "        for j in range(0, n-kernel_size+1, stride):\n",
    "            output[i][j][0] = dot_product(input[i:i+kernel_size, j:j+kernel_size,:], filter)\n",
    "    # print(output.shape)\n",
    "    if activation == \"ReLU\":\n",
    "        output = np.maximum(output, 0)\n",
    "    elif activation == \"Sigmoid\":\n",
    "        output = 1/(1+np.exp(-output))\n",
    "    elif activation == \"Tanh\":\n",
    "        output = np.tanh(output)\n",
    "    elif activation == \"PReLU\":\n",
    "        output = np.maximum(output, 0.01*output)\n",
    "    elif activation == None:\n",
    "        pass\n",
    "    return output"
   ]
  },
  {
   "cell_type": "code",
   "execution_count": 5,
   "metadata": {},
   "outputs": [
    {
     "data": {
      "image/png": "[encoded data removed]",
      "text/plain": [
       "<Figure size 640x480 with 1 Axes>"
      ]
     },
     "metadata": {},
     "output_type": "display_data"
    },
    {
     "name": "stdout",
     "output_type": "stream",
     "text": [
      "(32, 32, 3)\n"
     ]
    },
    {
     "data": {
      "text/plain": [
       "<matplotlib.image.AxesImage at 0x1402b6aa0>"
      ]
     },
     "execution_count": 5,
     "metadata": {},
     "output_type": "execute_result"
    },
    {
     "data": {
      "image/png": "[encoded data removed]",
      "text/plain": [
       "<Figure size 640x480 with 1 Axes>"
      ]
     },
     "metadata": {},
     "output_type": "display_data"
    }
   ],
   "source": [
    "a = np.array([[[1, 2, 3], [4, 5, 6], [7, 8, 9]], [[1, 2, 3], [4, 5, 6], [7, 8, 9]], [[1, 2, 3], [4, 5, 6], [7, 8, 9]]])\n",
    "ans_my = conv2d_my(input=a, padding=0, stride=1, kernel_size=3)\n",
    "\n",
    "# Opening iith.png file\n",
    "img = data[0]\n",
    "img = np.array(img)\n",
    "plt.imshow(img)\n",
    "plt.show()\n",
    "print(img.shape)\n",
    "\n",
    "conv_aft = conv2d_my(input=img, padding=0, stride=1, kernel_size=3, filter = np.ones((3,3,3)), activation=\"ReLU\")\n",
    "plt.imshow(conv_aft)\n"
   ]
  },
  {
   "attachments": {},
   "cell_type": "markdown",
   "metadata": {},
   "source": [
    "# 2. Pooling Function"
   ]
  },
  {
   "cell_type": "code",
   "execution_count": 6,
   "metadata": {},
   "outputs": [],
   "source": [
    "def pooling(input, kernel_size=2, stride=2, mode='Max'):\n",
    "    # print(input.shape)\n",
    "    size = input.shape\n",
    "    if len(size) == 2:\n",
    "        p, q = input.shape\n",
    "        r = 1\n",
    "    elif len(size) == 3:\n",
    "        p, q, r = input.shape\n",
    "    # print(p,q,r)\n",
    "    # print(int((p-kernel_size)/stride) + 1,int((q-kernel_size)/stride) + 1, r)\n",
    "    output = np.zeros((int((p-kernel_size)/stride) + 1,int((q-kernel_size)/stride) + 1, r))\n",
    "    # print(output.shape)\n",
    "    a, b, c = output.shape\n",
    "    for k in range(c):\n",
    "        for i in range(a):\n",
    "            for j in range(b):\n",
    "                if mode == 'Max':\n",
    "                    output[i,j,k] = np.max(input[i*stride:i*stride+kernel_size, j*stride:j*stride+kernel_size, k])\n",
    "                elif mode == 'Min':\n",
    "                    output[i,j,k] = np.min(input[i*stride:i*stride+kernel_size, j*stride:j*stride+kernel_size, k])\n",
    "                elif mode == 'Mean':\n",
    "                    output[i,j,k] = np.mean(input[i*stride:i*stride+kernel_size, j*stride:j*stride+kernel_size, k])\n",
    "    \n",
    "    return output\n"
   ]
  },
  {
   "cell_type": "code",
   "execution_count": 7,
   "metadata": {},
   "outputs": [
    {
     "data": {
      "text/plain": [
       "<matplotlib.image.AxesImage at 0x140356f80>"
      ]
     },
     "execution_count": 7,
     "metadata": {},
     "output_type": "execute_result"
    },
    {
     "data": {
      "image/png": "[encoded data removed]",
      "text/plain": [
       "<Figure size 640x480 with 1 Axes>"
      ]
     },
     "metadata": {},
     "output_type": "display_data"
    }
   ],
   "source": [
    "# Implementing Pooling Function\n",
    "pool_aft = pooling(conv_aft,2,2,'Max')\n",
    "plt.imshow(pool_aft)"
   ]
  },
  {
   "attachments": {},
   "cell_type": "markdown",
   "metadata": {},
   "source": [
    "# 3. Convolution Layer Function"
   ]
  },
  {
   "cell_type": "code",
   "execution_count": 8,
   "metadata": {},
   "outputs": [],
   "source": [
    "def conv_layer_function(input, number_of_feature_maps=1, kernel_size=3, stride=1, padding=0, activation=None, kernel=None):\n",
    "    m, n, o = input.shape\n",
    "    output = np.zeros((int((m-kernel_size+2*padding)/stride + 1), int((n-kernel_size+2*padding)/stride + 1), number_of_feature_maps))\n",
    "    if kernel == None:\n",
    "        kernel = np.ones((kernel_size, kernel_size, o, number_of_feature_maps))\n",
    "    for i in range(number_of_feature_maps):\n",
    "        temp = conv2d_my(input, padding=padding, stride=stride, filter=kernel[:,:,:,i], kernel_size=kernel_size, activation=activation)\n",
    "        a, b, c = temp.shape\n",
    "        output[:,:,i] = temp.reshape(a,b)\n",
    "    return output"
   ]
  },
  {
   "cell_type": "code",
   "execution_count": 9,
   "metadata": {},
   "outputs": [
    {
     "name": "stdout",
     "output_type": "stream",
     "text": [
      "(30, 30, 1)\n"
     ]
    },
    {
     "data": {
      "text/plain": [
       "<matplotlib.image.AxesImage at 0x1403ea620>"
      ]
     },
     "execution_count": 9,
     "metadata": {},
     "output_type": "execute_result"
    },
    {
     "data": {
      "image/png": "[encoded data removed]",
      "text/plain": [
       "<Figure size 640x480 with 1 Axes>"
      ]
     },
     "metadata": {},
     "output_type": "display_data"
    }
   ],
   "source": [
    "conv_aft = conv_layer_function(input=img, padding=0, number_of_feature_maps=1,stride=1, kernel_size=3, activation=\"ReLU\")\n",
    "print(conv_aft.shape)\n",
    "conv_aft = conv_aft/255\n",
    "plt.imshow(conv_aft)\n"
   ]
  },
  {
   "attachments": {},
   "cell_type": "markdown",
   "metadata": {},
   "source": [
    "# 4. Pooling Layer Function"
   ]
  },
  {
   "cell_type": "code",
   "execution_count": 10,
   "metadata": {},
   "outputs": [],
   "source": [
    "def pooling_layer_function(input, kernel_size=2, stride=2, mode='Max', global_average_pooling=False):\n",
    "    m, n, o = input.shape\n",
    "    # print(f\"Input shape: {m, n, o}\")\n",
    "    if global_average_pooling:\n",
    "        kernel_size = m\n",
    "        stride = m\n",
    "    output = np.zeros((int((m-kernel_size)/stride) + 1,int((n-kernel_size)/stride) + 1, o))\n",
    "    # print(f\"Output shape: {output.shape}\")\n",
    "    p, q, r = input.shape\n",
    "    # print(int((p-kernel_size)/stride) + 1,int((q-kernel_size)/stride) + 1, r)\n",
    "    output = np.zeros((int((p-kernel_size)/stride) + 1,int((q-kernel_size)/stride) + 1, r))\n",
    "    # print(output.shape)\n",
    "    a, b, c = output.shape\n",
    "    for k in range(c):\n",
    "        for i in range(a):\n",
    "            for j in range(b):\n",
    "                if mode == 'Max':\n",
    "                    output[i,j,k] = np.max(input[i*stride:i*stride+kernel_size, j*stride:j*stride+kernel_size, k])\n",
    "                elif mode == 'Min':\n",
    "                    output[i,j,k] = np.min(input[i*stride:i*stride+kernel_size, j*stride:j*stride+kernel_size, k])\n",
    "                elif mode == 'Mean':\n",
    "                    output[i,j,k] = np.mean(input[i*stride:i*stride+kernel_size, j*stride:j*stride+kernel_size, k])\n",
    "        \n",
    "    return output"
   ]
  },
  {
   "cell_type": "code",
   "execution_count": 11,
   "metadata": {},
   "outputs": [
    {
     "data": {
      "text/plain": [
       "<matplotlib.image.AxesImage at 0x14045ec20>"
      ]
     },
     "execution_count": 11,
     "metadata": {},
     "output_type": "execute_result"
    },
    {
     "data": {
      "image/png": "[encoded data removed]",
      "text/plain": [
       "<Figure size 640x480 with 1 Axes>"
      ]
     },
     "metadata": {},
     "output_type": "display_data"
    }
   ],
   "source": [
    "pool_aft = pooling_layer_function(conv_aft,2,2,'Max')\n",
    "plt.imshow(pool_aft)"
   ]
  },
  {
   "attachments": {},
   "cell_type": "markdown",
   "metadata": {},
   "source": [
    "# 5. Flattening"
   ]
  },
  {
   "cell_type": "code",
   "execution_count": 12,
   "metadata": {},
   "outputs": [],
   "source": [
    "def flatten(input, p):\n",
    "    m, n, o = input.shape\n",
    "    output = input.reshape(m*n*o, 1)\n",
    "    a = np.random.rand(p,m*n*o)\n",
    "    output = np.dot(a, output)\n",
    "    return output"
   ]
  },
  {
   "attachments": {},
   "cell_type": "markdown",
   "metadata": {},
   "source": [
    "# 6. MLP"
   ]
  },
  {
   "cell_type": "code",
   "execution_count": 13,
   "metadata": {},
   "outputs": [],
   "source": [
    "def multi_layered_perceptron(input, number_of_hidden_layers=1, size = np.array([5]), non_Linear_Function='ReLU', output_size=1,softmax=False):\n",
    "    m, n = input.shape\n",
    "    output = np.zeros((output_size, 1))\n",
    "    if len(size) != number_of_hidden_layers:\n",
    "        raise ValueError(f\"Size of hidden layers and number of hidden layers do not match: {len(size)} != {number_of_hidden_layers}\")\n",
    "    for i in range(number_of_hidden_layers):\n",
    "        if i == 0:\n",
    "            temp = np.random.rand(size[i], m)\n",
    "            output = np.dot(temp, input)\n",
    "        else:\n",
    "            temp = np.random.rand(size[i], size[i-1])\n",
    "            output = np.dot(temp, output)\n",
    "        if non_Linear_Function == 'ReLU':\n",
    "            output = np.maximum(output, 0)\n",
    "        elif non_Linear_Function == 'Sigmoid':\n",
    "            output = 1/(1+np.exp(-output))\n",
    "        elif non_Linear_Function == 'Tanh':\n",
    "            output = np.tanh(output)\n",
    "        elif non_Linear_Function == 'PReLU':\n",
    "            output = np.maximum(output, 0.01*output)\n",
    "    temp = np.random.rand(output_size, size[number_of_hidden_layers-1])\n",
    "    output = np.dot(temp, output)\n",
    "\n",
    "    if softmax:\n",
    "        output = np.exp(output)\n",
    "        output = output/np.sum(output)\n",
    "\n",
    "    return output"
   ]
  },
  {
   "attachments": {},
   "cell_type": "markdown",
   "metadata": {},
   "source": [
    "# 7. Feed Forward Path"
   ]
  },
  {
   "cell_type": "code",
   "execution_count": 14,
   "metadata": {},
   "outputs": [],
   "source": [
    "def forward_CNN(input):\n",
    "    conv_aft = conv_layer_function(input=input, padding=0, number_of_feature_maps=16,stride=1, kernel_size=3, activation=\"Sigmoid\")\n",
    "    # print(conv_aft.shape)\n",
    "    pool_aft = pooling_layer_function(conv_aft,2,2,'Max')\n",
    "    # print(pool_aft.shape)\n",
    "    conv_aft1 = conv_layer_function(input=pool_aft, padding=0, number_of_feature_maps=8,stride=1, kernel_size=3, activation=\"Sigmoid\")\n",
    "    # print(conv_aft1.shape)\n",
    "    pool_aft1 = pooling_layer_function(conv_aft1,2,2,'Max')\n",
    "    # print(pool_aft1.shape)\n",
    "    pool_aft2 = pooling_layer_function(pool_aft1,2,2,'Max', global_average_pooling=True)\n",
    "    # a, b, c = pool_aft2.shape\n",
    "    # print(pool_aft2.shape)\n",
    "    flat = flatten(pool_aft2, 8)\n",
    "    # print\n",
    "    mlp_aft = multi_layered_perceptron(flat, number_of_hidden_layers=1, size = np.array([flat.shape[0]]), non_Linear_Function='Sigmoid', output_size=10,softmax=True)\n",
    "    # print(mlp_aft.shape)\n",
    "    return mlp_aft, flat"
   ]
  },
  {
   "cell_type": "code",
   "execution_count": 15,
   "metadata": {},
   "outputs": [
    {
     "name": "stdout",
     "output_type": "stream",
     "text": [
      "Output : [[0.06717731]\n",
      " [0.00730378]\n",
      " [0.06639977]\n",
      " [0.05560858]\n",
      " [0.26688917]\n",
      " [0.04136948]\n",
      " [0.25238425]\n",
      " [0.02048914]\n",
      " [0.13592736]\n",
      " [0.08645116]]\n"
     ]
    },
    {
     "data": {
      "image/png": "[encoded data removed]",
      "text/plain": [
       "<Figure size 640x480 with 1 Axes>"
      ]
     },
     "metadata": {},
     "output_type": "display_data"
    }
   ],
   "source": [
    "a = np.random.rand(32,32,3)\n",
    "plt.imshow(a)\n",
    "b, _ = forward_CNN(a)\n",
    "print(f'Output : {b}')"
   ]
  },
  {
   "attachments": {},
   "cell_type": "markdown",
   "metadata": {},
   "source": [
    "# Question 8"
   ]
  },
  {
   "cell_type": "code",
   "execution_count": 16,
   "metadata": {},
   "outputs": [
    {
     "name": "stdout",
     "output_type": "stream",
     "text": [
      "Output for 0 : [0.02764083] [0.07948255] [0.14962776] [0.01131491] [0.10594757] [0.20876172] [0.34056931] [0.01970878] [0.04131576] [0.01563081] \n",
      "Output for 1 : [0.13054525] [0.02427461] [0.22394701] [0.17518] [0.02862028] [0.01905001] [0.19518558] [0.02609392] [0.02951352] [0.14758983] \n",
      "Output for 2 : [0.05458528] [0.04937189] [0.0645926] [0.04247885] [0.29535668] [0.11588592] [0.04620967] [0.0214606] [0.03336396] [0.27669455] \n",
      "Output for 3 : [0.04809989] [0.14515869] [0.10866808] [0.04155393] [0.11071319] [0.10338795] [0.02712752] [0.13556444] [0.24949588] [0.03023042] \n",
      "Output for 4 : [0.07936495] [0.04432783] [0.06079127] [0.3741191] [0.12395805] [0.0351254] [0.07244386] [0.04956657] [0.06910984] [0.09119312] \n",
      "Output for 5 : [0.06092291] [0.09601169] [0.0456516] [0.18159826] [0.13897046] [0.0601235] [0.0095863] [0.03970711] [0.12225487] [0.24517331] \n",
      "Output for 6 : [0.01603856] [0.06658654] [0.25579611] [0.0564231] [0.06946941] [0.12378121] [0.03287131] [0.13593749] [0.21699536] [0.02610092] \n",
      "Output for 7 : [0.03234513] [0.07593674] [0.13095776] [0.03413757] [0.10848628] [0.13317352] [0.06955883] [0.22129143] [0.11697775] [0.07713499] \n",
      "Output for 8 : [0.19579305] [0.18024512] [0.04280138] [0.10945902] [0.1362986] [0.06736726] [0.04454143] [0.04440602] [0.10265605] [0.07643209] \n",
      "Output for 9 : [0.19474896] [0.18843018] [0.07396302] [0.195376] [0.05117233] [0.03354761] [0.1674426] [0.04028317] [0.02360953] [0.03142659] \n"
     ]
    }
   ],
   "source": [
    "for i in range(10):\n",
    "    print(f'Output for {i} : ',end='')\n",
    "    a, _ = forward_CNN(data[i])\n",
    "    for j in range(10):\n",
    "        print(f'{a[j]} ', end='')\n",
    "    print()"
   ]
  },
  {
   "attachments": {},
   "cell_type": "markdown",
   "metadata": {},
   "source": [
    "# 8 a)\n",
    "As we can see the ouput of the data for each of the classsification, the ouput here shows no trend because the model is not yet trained and gives the values in a random way.\n"
   ]
  },
  {
   "cell_type": "code",
   "execution_count": 17,
   "metadata": {},
   "outputs": [],
   "source": [
    "a = np.zeros(10)\n",
    "data_new = np.zeros((30, 32, 32, 3))\n",
    "labels_new = np.zeros((30, 1)) \n",
    "count=0\n",
    "for i in range(10000):\n",
    "    if a[labels_test[i]] < 3:\n",
    "        a[labels_test[i]] += 1\n",
    "        data_new[count] = data_test[i]\n",
    "        labels_new[count] = labels_test[i]\n",
    "        count += 1\n"
   ]
  },
  {
   "cell_type": "code",
   "execution_count": 18,
   "metadata": {},
   "outputs": [],
   "source": [
    "flat_output = np.zeros((30, 8))\n",
    "for i in range(30):\n",
    "    _, b = forward_CNN(data_new[i])\n",
    "    flat_output[i] = b.reshape(8)\n"
   ]
  },
  {
   "cell_type": "code",
   "execution_count": 19,
   "metadata": {},
   "outputs": [
    {
     "data": {
      "text/plain": [
       "array([[ 0.35443188, -1.84748107],\n",
       "       [ 0.74566275, -1.68283401],\n",
       "       [-1.16738969,  0.01317015],\n",
       "       [ 0.08328001,  0.12543404],\n",
       "       [-0.54889811, -0.98179596],\n",
       "       [-1.57976422,  1.93793695],\n",
       "       [-0.05691246, -0.25982128],\n",
       "       [-0.86696759,  0.14495718],\n",
       "       [ 0.72677078, -0.1931325 ],\n",
       "       [-0.41671385, -0.3444774 ],\n",
       "       [ 0.31112167, -0.18518033],\n",
       "       [ 1.06223215,  0.13607661],\n",
       "       [ 0.83616103, -0.80478613],\n",
       "       [-1.12396758, -0.91265179],\n",
       "       [ 0.06091179,  0.00390844],\n",
       "       [ 1.35529742,  0.78905322],\n",
       "       [-0.89331042,  1.40787791],\n",
       "       [-0.06517555, -0.36690805],\n",
       "       [ 0.06635935, -1.26233755],\n",
       "       [ 0.19228833, -0.47819902],\n",
       "       [-0.47984237,  2.97922708],\n",
       "       [ 2.84676589, -0.04196732],\n",
       "       [-1.1930475 , -0.02584722],\n",
       "       [-2.19546128, -0.38049836],\n",
       "       [ 0.0836485 , -0.06484585],\n",
       "       [-0.24694348, -0.13377303],\n",
       "       [ 0.51079273, -0.18387074],\n",
       "       [ 2.40528428,  1.91163008],\n",
       "       [-0.98131594, -0.40961085],\n",
       "       [ 0.17470147,  1.11074679]])"
      ]
     },
     "execution_count": 19,
     "metadata": {},
     "output_type": "execute_result"
    }
   ],
   "source": [
    "pca = PCA(n_components=2)\n",
    "pca.fit(flat_output)\n",
    "pca.transform(flat_output)"
   ]
  },
  {
   "cell_type": "code",
   "execution_count": 20,
   "metadata": {},
   "outputs": [
    {
     "name": "stderr",
     "output_type": "stream",
     "text": [
      "/var/folders/9q/bft9r4494rv8r0696_gxrbp80000gn/T/ipykernel_6049/4170867438.py:4: UserWarning: No data for colormapping provided via 'c'. Parameters 'cmap' will be ignored\n",
      "  plt.scatter(flat_output[:,0], flat_output[:,1], c=colors[labels_new.reshape(30).astype(int)], cmap=plt.cm.Spectral)\n"
     ]
    },
    {
     "data": {
      "image/png": "[encoded data removed]",
      "text/plain": [
       "<Figure size 640x480 with 1 Axes>"
      ]
     },
     "metadata": {},
     "output_type": "display_data"
    }
   ],
   "source": [
    "# Plotting the data points after PCA\n",
    "colors = plt.cm.Spectral(np.linspace(0, 1, 10))\n",
    "# plt.figure(figsize=(10,10))\n",
    "plt.scatter(flat_output[:,0], flat_output[:,1], c=colors[labels_new.reshape(30).astype(int)], cmap=plt.cm.Spectral)\n",
    "plt.show()\n"
   ]
  }
 ],
 "metadata": {
  "kernelspec": {
   "display_name": "Python 3",
   "language": "python",
   "name": "python3"
  },
  "language_info": {
   "codemirror_mode": {
    "name": "ipython",
    "version": 3
   },
   "file_extension": ".py",
   "mimetype": "text/x-python",
   "name": "python",
   "nbconvert_exporter": "python",
   "pygments_lexer": "ipython3",
   "version": "3.10.10"
  },
  "orig_nbformat": 4,
  "vscode": {
   "interpreter": {
    "hash": "aee8b7b246df8f9039afb4144a1f6fd8d2ca17a180786b69acc140d282b71a49"
   }
  }
 },
 "nbformat": 4,
 "nbformat_minor": 2
}
